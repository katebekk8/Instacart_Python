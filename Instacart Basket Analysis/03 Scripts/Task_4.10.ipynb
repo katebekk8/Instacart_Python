{
 "cells": [
  {
   "cell_type": "markdown",
   "id": "2b89b7eb",
   "metadata": {},
   "source": [
    "## Importing libraries"
   ]
  },
  {
   "cell_type": "code",
   "execution_count": 1,
   "id": "cd010bf8",
   "metadata": {},
   "outputs": [],
   "source": [
    "import pandas as pd\n",
    "import numpy as np\n",
    "import os\n",
    "import matplotlib.pyplot as plt\n",
    "import seaborn as sns\n",
    "import scipy"
   ]
  },
  {
   "cell_type": "markdown",
   "id": "8b72ed3d",
   "metadata": {},
   "source": [
    "## Importing Dataframes"
   ]
  },
  {
   "cell_type": "code",
   "execution_count": 2,
   "id": "f1b0c1ea",
   "metadata": {},
   "outputs": [],
   "source": [
    "path = r\"/Users/katalysenko/Documents/Instacart Basket Analysis\""
   ]
  },
  {
   "cell_type": "code",
   "execution_count": 3,
   "id": "842d440c",
   "metadata": {},
   "outputs": [],
   "source": [
    "ords_prods_customers_merged = pd.read_pickle(r\"/Users/katalysenko/Documents/Instacart Basket Analysis/02 Data/Prepared Data/orders_products_customers_merged.pkl\")"
   ]
  },
  {
   "cell_type": "markdown",
   "id": "8d76e520",
   "metadata": {},
   "source": [
    "## Data Security and Privacy"
   ]
  },
  {
   "cell_type": "code",
   "execution_count": 4,
   "id": "b668a207",
   "metadata": {},
   "outputs": [
    {
     "data": {
      "text/html": [
       "<div>\n",
       "<style scoped>\n",
       "    .dataframe tbody tr th:only-of-type {\n",
       "        vertical-align: middle;\n",
       "    }\n",
       "\n",
       "    .dataframe tbody tr th {\n",
       "        vertical-align: top;\n",
       "    }\n",
       "\n",
       "    .dataframe thead th {\n",
       "        text-align: right;\n",
       "    }\n",
       "</style>\n",
       "<table border=\"1\" class=\"dataframe\">\n",
       "  <thead>\n",
       "    <tr style=\"text-align: right;\">\n",
       "      <th></th>\n",
       "      <th>order_id</th>\n",
       "      <th>user_id</th>\n",
       "      <th>eval_set</th>\n",
       "      <th>order_number</th>\n",
       "      <th>order_dow</th>\n",
       "      <th>order_hour_of_day</th>\n",
       "      <th>days_since_prior_order</th>\n",
       "      <th>product_id</th>\n",
       "      <th>add_to_cart_order</th>\n",
       "      <th>reordered</th>\n",
       "      <th>...</th>\n",
       "      <th>order_frequency_flag</th>\n",
       "      <th>first_name</th>\n",
       "      <th>surname</th>\n",
       "      <th>gender</th>\n",
       "      <th>state</th>\n",
       "      <th>age</th>\n",
       "      <th>date_joined</th>\n",
       "      <th>num_of_dependants</th>\n",
       "      <th>fam_status</th>\n",
       "      <th>income</th>\n",
       "    </tr>\n",
       "  </thead>\n",
       "  <tbody>\n",
       "    <tr>\n",
       "      <th>0</th>\n",
       "      <td>2539329</td>\n",
       "      <td>1</td>\n",
       "      <td>prior</td>\n",
       "      <td>1</td>\n",
       "      <td>2</td>\n",
       "      <td>8</td>\n",
       "      <td>NaN</td>\n",
       "      <td>196</td>\n",
       "      <td>1</td>\n",
       "      <td>0</td>\n",
       "      <td>...</td>\n",
       "      <td>Non-frequent customer</td>\n",
       "      <td>Linda</td>\n",
       "      <td>Nguyen</td>\n",
       "      <td>Female</td>\n",
       "      <td>Alabama</td>\n",
       "      <td>31</td>\n",
       "      <td>2/17/2019</td>\n",
       "      <td>3</td>\n",
       "      <td>married</td>\n",
       "      <td>40423</td>\n",
       "    </tr>\n",
       "    <tr>\n",
       "      <th>1</th>\n",
       "      <td>2398795</td>\n",
       "      <td>1</td>\n",
       "      <td>prior</td>\n",
       "      <td>2</td>\n",
       "      <td>3</td>\n",
       "      <td>7</td>\n",
       "      <td>15.0</td>\n",
       "      <td>196</td>\n",
       "      <td>1</td>\n",
       "      <td>1</td>\n",
       "      <td>...</td>\n",
       "      <td>Non-frequent customer</td>\n",
       "      <td>Linda</td>\n",
       "      <td>Nguyen</td>\n",
       "      <td>Female</td>\n",
       "      <td>Alabama</td>\n",
       "      <td>31</td>\n",
       "      <td>2/17/2019</td>\n",
       "      <td>3</td>\n",
       "      <td>married</td>\n",
       "      <td>40423</td>\n",
       "    </tr>\n",
       "    <tr>\n",
       "      <th>2</th>\n",
       "      <td>473747</td>\n",
       "      <td>1</td>\n",
       "      <td>prior</td>\n",
       "      <td>3</td>\n",
       "      <td>3</td>\n",
       "      <td>12</td>\n",
       "      <td>21.0</td>\n",
       "      <td>196</td>\n",
       "      <td>1</td>\n",
       "      <td>1</td>\n",
       "      <td>...</td>\n",
       "      <td>Non-frequent customer</td>\n",
       "      <td>Linda</td>\n",
       "      <td>Nguyen</td>\n",
       "      <td>Female</td>\n",
       "      <td>Alabama</td>\n",
       "      <td>31</td>\n",
       "      <td>2/17/2019</td>\n",
       "      <td>3</td>\n",
       "      <td>married</td>\n",
       "      <td>40423</td>\n",
       "    </tr>\n",
       "    <tr>\n",
       "      <th>3</th>\n",
       "      <td>2254736</td>\n",
       "      <td>1</td>\n",
       "      <td>prior</td>\n",
       "      <td>4</td>\n",
       "      <td>4</td>\n",
       "      <td>7</td>\n",
       "      <td>29.0</td>\n",
       "      <td>196</td>\n",
       "      <td>1</td>\n",
       "      <td>1</td>\n",
       "      <td>...</td>\n",
       "      <td>Non-frequent customer</td>\n",
       "      <td>Linda</td>\n",
       "      <td>Nguyen</td>\n",
       "      <td>Female</td>\n",
       "      <td>Alabama</td>\n",
       "      <td>31</td>\n",
       "      <td>2/17/2019</td>\n",
       "      <td>3</td>\n",
       "      <td>married</td>\n",
       "      <td>40423</td>\n",
       "    </tr>\n",
       "    <tr>\n",
       "      <th>4</th>\n",
       "      <td>431534</td>\n",
       "      <td>1</td>\n",
       "      <td>prior</td>\n",
       "      <td>5</td>\n",
       "      <td>4</td>\n",
       "      <td>15</td>\n",
       "      <td>28.0</td>\n",
       "      <td>196</td>\n",
       "      <td>1</td>\n",
       "      <td>1</td>\n",
       "      <td>...</td>\n",
       "      <td>Non-frequent customer</td>\n",
       "      <td>Linda</td>\n",
       "      <td>Nguyen</td>\n",
       "      <td>Female</td>\n",
       "      <td>Alabama</td>\n",
       "      <td>31</td>\n",
       "      <td>2/17/2019</td>\n",
       "      <td>3</td>\n",
       "      <td>married</td>\n",
       "      <td>40423</td>\n",
       "    </tr>\n",
       "  </tbody>\n",
       "</table>\n",
       "<p>5 rows × 34 columns</p>\n",
       "</div>"
      ],
      "text/plain": [
       "   order_id  user_id eval_set  order_number  order_dow  order_hour_of_day  \\\n",
       "0   2539329        1    prior             1          2                  8   \n",
       "1   2398795        1    prior             2          3                  7   \n",
       "2    473747        1    prior             3          3                 12   \n",
       "3   2254736        1    prior             4          4                  7   \n",
       "4    431534        1    prior             5          4                 15   \n",
       "\n",
       "   days_since_prior_order  product_id  add_to_cart_order  reordered  ...  \\\n",
       "0                     NaN         196                  1          0  ...   \n",
       "1                    15.0         196                  1          1  ...   \n",
       "2                    21.0         196                  1          1  ...   \n",
       "3                    29.0         196                  1          1  ...   \n",
       "4                    28.0         196                  1          1  ...   \n",
       "\n",
       "    order_frequency_flag  first_name  surname  gender    state age  \\\n",
       "0  Non-frequent customer       Linda   Nguyen  Female  Alabama  31   \n",
       "1  Non-frequent customer       Linda   Nguyen  Female  Alabama  31   \n",
       "2  Non-frequent customer       Linda   Nguyen  Female  Alabama  31   \n",
       "3  Non-frequent customer       Linda   Nguyen  Female  Alabama  31   \n",
       "4  Non-frequent customer       Linda   Nguyen  Female  Alabama  31   \n",
       "\n",
       "  date_joined num_of_dependants fam_status  income  \n",
       "0   2/17/2019                 3    married   40423  \n",
       "1   2/17/2019                 3    married   40423  \n",
       "2   2/17/2019                 3    married   40423  \n",
       "3   2/17/2019                 3    married   40423  \n",
       "4   2/17/2019                 3    married   40423  \n",
       "\n",
       "[5 rows x 34 columns]"
      ]
     },
     "execution_count": 4,
     "metadata": {},
     "output_type": "execute_result"
    }
   ],
   "source": [
    "ords_prods_customers_merged.head()"
   ]
  },
  {
   "cell_type": "code",
   "execution_count": 5,
   "id": "58fed56d",
   "metadata": {},
   "outputs": [
    {
     "data": {
      "text/plain": [
       "(32434212, 34)"
      ]
     },
     "execution_count": 5,
     "metadata": {},
     "output_type": "execute_result"
    }
   ],
   "source": [
    "ords_prods_customers_merged.shape"
   ]
  },
  {
   "cell_type": "code",
   "execution_count": 6,
   "id": "b4e11017",
   "metadata": {},
   "outputs": [],
   "source": [
    "# Dropping \"first_name\" and \"surname\" column. We can see that in our case, we have particularly sensitive data in the form of the \"first_name\" and \"surname\" columns, so we get rid of them before we start our analysis.\n",
    "\n",
    "ords_prods_customers_merged = ords_prods_customers_merged.drop(['first_name', 'surname'], axis=1)"
   ]
  },
  {
   "cell_type": "markdown",
   "id": "e2b40b51",
   "metadata": {},
   "source": [
    "## Create a “Region” column based on the “State” column from the customers data set."
   ]
  },
  {
   "cell_type": "code",
   "execution_count": 7,
   "id": "f7b2c549",
   "metadata": {},
   "outputs": [],
   "source": [
    "results_region = []\n",
    "\n",
    "for value in ords_prods_customers_merged[\"state\"]:\n",
    "  if value == 'Maine' or value == 'New Hampshire' or value == 'Vermont' or value == 'Massachusetts' or value == 'Rhode Island' or value == 'Connecticut' or value == 'New York' or value == 'Pennsylvania' or value == 'New Jersey':\n",
    "    results_region.append(\"Northeast\")\n",
    "  elif value == 'Wisconsin' or value == 'Michigan' or value == 'Illinois' or value == 'Indiana' or value == 'Ohio' or value == 'North Dakota' or value == 'South Dakota' or value == 'Nebraska' or value == 'Kansas' or value == 'Minnesota' or value == 'Iowa' or value == 'Missouri':\n",
    "    results_region.append(\"Midwest\")\n",
    "  elif value == 'Delaware' or value == 'Maryland' or value == 'District of Colombia' or value == 'Virginia' or value == 'West Virginia' or value == 'North Carolina' or value == 'South Carolina' or value == 'Georgia' or value == 'Florida' or value == 'Kentucky' or value == 'Tennessee' or value == 'Mississippi' or value == 'Alabama' or value == 'Oklahoma' or value == 'Texas' or value == 'Arkansas' or value == 'Lousiana':\n",
    "    results_region.append(\"South\")\n",
    "  else:\n",
    "    results_region.append(\"West\")"
   ]
  },
  {
   "cell_type": "code",
   "execution_count": 8,
   "id": "7487acc8",
   "metadata": {},
   "outputs": [],
   "source": [
    "ords_prods_customers_merged['region'] = results_region"
   ]
  },
  {
   "cell_type": "code",
   "execution_count": 9,
   "id": "918d485a",
   "metadata": {},
   "outputs": [
    {
     "name": "stdout",
     "output_type": "stream",
     "text": [
      "              state region\n",
      "0           Alabama  South\n",
      "1           Alabama  South\n",
      "2           Alabama  South\n",
      "3           Alabama  South\n",
      "4           Alabama  South\n",
      "...             ...    ...\n",
      "32434207     Hawaii   West\n",
      "32434208  Tennessee  South\n",
      "32434209  Tennessee  South\n",
      "32434210  Tennessee  South\n",
      "32434211  Tennessee  South\n",
      "\n",
      "[32434212 rows x 2 columns]\n"
     ]
    }
   ],
   "source": [
    "print(ords_prods_customers_merged[['state', 'region']])"
   ]
  },
  {
   "cell_type": "markdown",
   "id": "0ee40e1d",
   "metadata": {},
   "source": [
    "##  Determine if there is a difference in spending habits between different regions of the United States. Create a crosstabulation table."
   ]
  },
  {
   "cell_type": "code",
   "execution_count": 10,
   "id": "308fd729",
   "metadata": {},
   "outputs": [],
   "source": [
    "crosstab = pd.crosstab(ords_prods_customers_merged['spending_flag'], ords_prods_customers_merged['region'], dropna = False)"
   ]
  },
  {
   "cell_type": "code",
   "execution_count": 11,
   "id": "cc6a2759",
   "metadata": {},
   "outputs": [],
   "source": [
    "crosstab.to_clipboard()"
   ]
  },
  {
   "cell_type": "code",
   "execution_count": 12,
   "id": "adb405dc",
   "metadata": {},
   "outputs": [
    {
     "data": {
      "text/html": [
       "<div>\n",
       "<style scoped>\n",
       "    .dataframe tbody tr th:only-of-type {\n",
       "        vertical-align: middle;\n",
       "    }\n",
       "\n",
       "    .dataframe tbody tr th {\n",
       "        vertical-align: top;\n",
       "    }\n",
       "\n",
       "    .dataframe thead th {\n",
       "        text-align: right;\n",
       "    }\n",
       "</style>\n",
       "<table border=\"1\" class=\"dataframe\">\n",
       "  <thead>\n",
       "    <tr style=\"text-align: right;\">\n",
       "      <th>region</th>\n",
       "      <th>Midwest</th>\n",
       "      <th>Northeast</th>\n",
       "      <th>South</th>\n",
       "      <th>West</th>\n",
       "    </tr>\n",
       "    <tr>\n",
       "      <th>spending_flag</th>\n",
       "      <th></th>\n",
       "      <th></th>\n",
       "      <th></th>\n",
       "      <th></th>\n",
       "    </tr>\n",
       "  </thead>\n",
       "  <tbody>\n",
       "    <tr>\n",
       "      <th>High spender</th>\n",
       "      <td>7596096</td>\n",
       "      <td>5722788</td>\n",
       "      <td>9540228</td>\n",
       "      <td>9543523</td>\n",
       "    </tr>\n",
       "    <tr>\n",
       "      <th>Low spender</th>\n",
       "      <td>7714</td>\n",
       "      <td>5559</td>\n",
       "      <td>8915</td>\n",
       "      <td>9389</td>\n",
       "    </tr>\n",
       "  </tbody>\n",
       "</table>\n",
       "</div>"
      ],
      "text/plain": [
       "region         Midwest  Northeast    South     West\n",
       "spending_flag                                      \n",
       "High spender   7596096    5722788  9540228  9543523\n",
       "Low spender       7714       5559     8915     9389"
      ]
     },
     "execution_count": 12,
     "metadata": {},
     "output_type": "execute_result"
    }
   ],
   "source": [
    "crosstab"
   ]
  },
  {
   "cell_type": "markdown",
   "id": "853141af",
   "metadata": {},
   "source": [
    "## Create an exclusion flag for low-activity customers (customers with less than 5 orders) and exclude them from the data."
   ]
  },
  {
   "cell_type": "code",
   "execution_count": 13,
   "id": "46550c19",
   "metadata": {},
   "outputs": [],
   "source": [
    "# Create an exlusion flag\n",
    "\n",
    "ords_prods_customers_merged.loc[ords_prods_customers_merged['max_order']>= 5, 'customer_activity'] = 'High-activity customer'"
   ]
  },
  {
   "cell_type": "code",
   "execution_count": 14,
   "id": "ec74d906",
   "metadata": {},
   "outputs": [],
   "source": [
    "ords_prods_customers_merged.loc[ords_prods_customers_merged['max_order']< 5, 'customer_activity'] = 'Low-activity customer'"
   ]
  },
  {
   "cell_type": "code",
   "execution_count": 15,
   "id": "cff45f06",
   "metadata": {},
   "outputs": [
    {
     "data": {
      "text/plain": [
       "customer_activity\n",
       "High-activity customer    30992664\n",
       "Low-activity customer      1441548\n",
       "Name: count, dtype: int64"
      ]
     },
     "execution_count": 15,
     "metadata": {},
     "output_type": "execute_result"
    }
   ],
   "source": [
    "# Check the results\n",
    "\n",
    "ords_prods_customers_merged['customer_activity'].value_counts (dropna = False)"
   ]
  },
  {
   "cell_type": "code",
   "execution_count": 16,
   "id": "7be197a9",
   "metadata": {},
   "outputs": [],
   "source": [
    "# Creating a subset\n",
    "\n",
    "customer_low_activity = ords_prods_customers_merged[ords_prods_customers_merged['customer_activity'] =='Low-activity customer']"
   ]
  },
  {
   "cell_type": "code",
   "execution_count": 17,
   "id": "f349e164",
   "metadata": {},
   "outputs": [
    {
     "data": {
      "text/plain": [
       "(1441548, 34)"
      ]
     },
     "execution_count": 17,
     "metadata": {},
     "output_type": "execute_result"
    }
   ],
   "source": [
    "customer_low_activity.shape"
   ]
  },
  {
   "cell_type": "code",
   "execution_count": 18,
   "id": "627cd7c8",
   "metadata": {},
   "outputs": [],
   "source": [
    "customer_high_activity = ords_prods_customers_merged[ords_prods_customers_merged['customer_activity'] =='High-activity customer']"
   ]
  },
  {
   "cell_type": "code",
   "execution_count": 19,
   "id": "f2bfb73e",
   "metadata": {},
   "outputs": [
    {
     "data": {
      "text/plain": [
       "(30992664, 34)"
      ]
     },
     "execution_count": 19,
     "metadata": {},
     "output_type": "execute_result"
    }
   ],
   "source": [
    "customer_high_activity.shape"
   ]
  },
  {
   "cell_type": "code",
   "execution_count": 20,
   "id": "2ce22d2f",
   "metadata": {},
   "outputs": [],
   "source": [
    "# Export the sample/subset with low activity customers as a pickle. \n",
    "\n",
    "customer_low_activity.to_pickle(os.path.join(path, '02 Data', 'Prepared Data', 'customer_low_activity.pkl'))"
   ]
  },
  {
   "cell_type": "code",
   "execution_count": 21,
   "id": "873bf45f",
   "metadata": {},
   "outputs": [],
   "source": [
    "# Export the sample/subset with high activity customers as a pickle. \n",
    "\n",
    "customer_high_activity.to_pickle(os.path.join(path, '02 Data', 'Prepared Data', 'customer_high_activity.pkl'))"
   ]
  },
  {
   "cell_type": "markdown",
   "id": "d92104f6",
   "metadata": {},
   "source": [
    "## Create a profiling variable based on age, income, certain goods in the “department_id” column, and number of dependents. "
   ]
  },
  {
   "cell_type": "code",
   "execution_count": 22,
   "id": "c5383b4c",
   "metadata": {},
   "outputs": [
    {
     "data": {
      "text/plain": [
       "count    3.099266e+07\n",
       "mean     4.946793e+01\n",
       "std      1.848520e+01\n",
       "min      1.800000e+01\n",
       "25%      3.300000e+01\n",
       "50%      4.900000e+01\n",
       "75%      6.500000e+01\n",
       "max      8.100000e+01\n",
       "Name: age, dtype: float64"
      ]
     },
     "execution_count": 22,
     "metadata": {},
     "output_type": "execute_result"
    }
   ],
   "source": [
    "# Creating age groups\n",
    "\n",
    "customer_high_activity['age'].describe()"
   ]
  },
  {
   "cell_type": "code",
   "execution_count": 23,
   "id": "4d107c85",
   "metadata": {},
   "outputs": [
    {
     "name": "stderr",
     "output_type": "stream",
     "text": [
      "/var/folders/p4/8yql05j55jlgk_8dqfyzrk2r0000gn/T/ipykernel_55515/1362863365.py:4: SettingWithCopyWarning: \n",
      "A value is trying to be set on a copy of a slice from a DataFrame.\n",
      "Try using .loc[row_indexer,col_indexer] = value instead\n",
      "\n",
      "See the caveats in the documentation: https://pandas.pydata.org/pandas-docs/stable/user_guide/indexing.html#returning-a-view-versus-a-copy\n",
      "  customer_high_activity['age_group'] = pd.cut(customer_high_activity['age'], bins=bins, labels=labels, include_lowest=True)\n"
     ]
    }
   ],
   "source": [
    "bins = [18, 25, 35, 45, 55, 65, 81]\n",
    "labels = ['18-25', '26-35', '36-45', '46-55', '56-65', '66-81']\n",
    "\n",
    "customer_high_activity['age_group'] = pd.cut(customer_high_activity['age'], bins=bins, labels=labels, include_lowest=True)"
   ]
  },
  {
   "cell_type": "code",
   "execution_count": 24,
   "id": "6a279416",
   "metadata": {},
   "outputs": [
    {
     "data": {
      "text/plain": [
       "age_group\n",
       "66-81    7737619\n",
       "46-55    4893849\n",
       "26-35    4878613\n",
       "36-45    4832400\n",
       "56-65    4782017\n",
       "18-25    3868166\n",
       "Name: count, dtype: int64"
      ]
     },
     "execution_count": 24,
     "metadata": {},
     "output_type": "execute_result"
    }
   ],
   "source": [
    "# Check the results\n",
    "\n",
    "customer_high_activity['age_group'].value_counts(dropna = False)"
   ]
  },
  {
   "cell_type": "code",
   "execution_count": 25,
   "id": "de1dfc74",
   "metadata": {},
   "outputs": [
    {
     "data": {
      "text/plain": [
       "count    3.099266e+07\n",
       "mean     9.967322e+04\n",
       "std      4.313928e+04\n",
       "min      2.590300e+04\n",
       "25%      6.728900e+04\n",
       "50%      9.676500e+04\n",
       "75%      1.281010e+05\n",
       "max      5.939010e+05\n",
       "Name: income, dtype: float64"
      ]
     },
     "execution_count": 25,
     "metadata": {},
     "output_type": "execute_result"
    }
   ],
   "source": [
    "# Create income groups\n",
    "\n",
    "customer_high_activity['income'].describe()"
   ]
  },
  {
   "cell_type": "code",
   "execution_count": 26,
   "id": "7191e58d",
   "metadata": {},
   "outputs": [
    {
     "name": "stderr",
     "output_type": "stream",
     "text": [
      "/var/folders/p4/8yql05j55jlgk_8dqfyzrk2r0000gn/T/ipykernel_55515/2258397227.py:4: SettingWithCopyWarning: \n",
      "A value is trying to be set on a copy of a slice from a DataFrame.\n",
      "Try using .loc[row_indexer,col_indexer] = value instead\n",
      "\n",
      "See the caveats in the documentation: https://pandas.pydata.org/pandas-docs/stable/user_guide/indexing.html#returning-a-view-versus-a-copy\n",
      "  customer_high_activity['income_group'] = pd.cut(customer_high_activity['income'], bins=income_bins, labels=income_labels, include_lowest=True)\n"
     ]
    }
   ],
   "source": [
    "income_bins = [0, 67292, 128102, 593901]\n",
    "income_labels = ['Low Income', 'Middle Income', 'High Income']\n",
    "\n",
    "customer_high_activity['income_group'] = pd.cut(customer_high_activity['income'], bins=income_bins, labels=income_labels, include_lowest=True)"
   ]
  },
  {
   "cell_type": "code",
   "execution_count": 27,
   "id": "7f1d1aeb",
   "metadata": {},
   "outputs": [
    {
     "data": {
      "text/plain": [
       "income_group\n",
       "Middle Income    15495983\n",
       "Low Income        7748855\n",
       "High Income       7747826\n",
       "Name: count, dtype: int64"
      ]
     },
     "execution_count": 27,
     "metadata": {},
     "output_type": "execute_result"
    }
   ],
   "source": [
    "# Check the results\n",
    "\n",
    "customer_high_activity['income_group'].value_counts(dropna=False)"
   ]
  },
  {
   "cell_type": "markdown",
   "id": "55f8aeaf",
   "metadata": {},
   "source": [
    "## Grouping Customer Profile"
   ]
  },
  {
   "cell_type": "code",
   "execution_count": 28,
   "id": "818053c4",
   "metadata": {},
   "outputs": [
    {
     "data": {
      "text/plain": [
       "num_of_dependants\n",
       "3    7779452\n",
       "0    7747032\n",
       "2    7740199\n",
       "1    7725981\n",
       "Name: count, dtype: int64"
      ]
     },
     "execution_count": 28,
     "metadata": {},
     "output_type": "execute_result"
    }
   ],
   "source": [
    "customer_high_activity['num_of_dependants'].value_counts()"
   ]
  },
  {
   "cell_type": "code",
   "execution_count": 29,
   "id": "33cf018a",
   "metadata": {},
   "outputs": [
    {
     "data": {
      "text/plain": [
       "fam_status\n",
       "married                             21763021\n",
       "single                               5099271\n",
       "divorced/widowed                     2647761\n",
       "living with parents and siblings     1482611\n",
       "Name: count, dtype: int64"
      ]
     },
     "execution_count": 29,
     "metadata": {},
     "output_type": "execute_result"
    }
   ],
   "source": [
    "customer_high_activity['fam_status'].value_counts(dropna = False)"
   ]
  },
  {
   "cell_type": "code",
   "execution_count": 30,
   "id": "a5d0f7ce",
   "metadata": {},
   "outputs": [
    {
     "name": "stderr",
     "output_type": "stream",
     "text": [
      "/var/folders/p4/8yql05j55jlgk_8dqfyzrk2r0000gn/T/ipykernel_55515/3048373938.py:3: SettingWithCopyWarning: \n",
      "A value is trying to be set on a copy of a slice from a DataFrame.\n",
      "Try using .loc[row_indexer,col_indexer] = value instead\n",
      "\n",
      "See the caveats in the documentation: https://pandas.pydata.org/pandas-docs/stable/user_guide/indexing.html#returning-a-view-versus-a-copy\n",
      "  customer_high_activity.loc[(customer_high_activity['fam_status'] != 'married') & (customer_high_activity['num_of_dependants'] > 0), 'customer_profile'] = 'Single Parent'\n"
     ]
    }
   ],
   "source": [
    "#Customer profiles\n",
    "\n",
    "customer_high_activity.loc[(customer_high_activity['fam_status'] != 'married') & (customer_high_activity['num_of_dependants'] > 0), 'customer_profile'] = 'Single Parent'\n",
    "customer_high_activity.loc[(customer_high_activity['fam_status'] != 'married') & (customer_high_activity['gender'] == 'Female') & (customer_high_activity['num_of_dependants'] == 0), 'customer_profile'] = 'Single Female w/o Children'\n",
    "customer_high_activity.loc[(customer_high_activity['fam_status'] != 'married') & (customer_high_activity['gender'] == 'Male') & (customer_high_activity['num_of_dependants'] == 0), 'customer_profile'] = 'Single Male w/o Children'\n",
    "customer_high_activity.loc[(customer_high_activity['age'] < 30) & (customer_high_activity['fam_status'] == 'married') & (customer_high_activity['num_of_dependants'] > 0), 'customer_profile'] = 'Married Young Parent'\n",
    "customer_high_activity.loc[(customer_high_activity['age'] >= 30) & (customer_high_activity['fam_status'] == 'married') & (customer_high_activity['num_of_dependants'] > 0), 'customer_profile'] = 'Married Older Parent'\n",
    "customer_high_activity.loc[(customer_high_activity['fam_status'] == 'married') & (customer_high_activity['num_of_dependants'] == 0), 'customer_profile'] = 'Married Young Parent'"
   ]
  },
  {
   "cell_type": "code",
   "execution_count": 31,
   "id": "672fc6d3",
   "metadata": {},
   "outputs": [
    {
     "data": {
      "text/plain": [
       "customer_profile\n",
       "Married Older Parent          18871671\n",
       "Single Male w/o Children       3884900\n",
       "Single Female w/o Children     3862132\n",
       "Married Young Parent           2891350\n",
       "Single Parent                  1482611\n",
       "Name: count, dtype: int64"
      ]
     },
     "execution_count": 31,
     "metadata": {},
     "output_type": "execute_result"
    }
   ],
   "source": [
    "#Check the results\n",
    "\n",
    "customer_high_activity['customer_profile'].value_counts(dropna=False)"
   ]
  },
  {
   "cell_type": "code",
   "execution_count": 32,
   "id": "d5c01d32",
   "metadata": {},
   "outputs": [
    {
     "data": {
      "text/html": [
       "<div>\n",
       "<style scoped>\n",
       "    .dataframe tbody tr th:only-of-type {\n",
       "        vertical-align: middle;\n",
       "    }\n",
       "\n",
       "    .dataframe tbody tr th {\n",
       "        vertical-align: top;\n",
       "    }\n",
       "\n",
       "    .dataframe thead th {\n",
       "        text-align: right;\n",
       "    }\n",
       "</style>\n",
       "<table border=\"1\" class=\"dataframe\">\n",
       "  <thead>\n",
       "    <tr style=\"text-align: right;\">\n",
       "      <th></th>\n",
       "      <th>order_id</th>\n",
       "      <th>user_id</th>\n",
       "      <th>eval_set</th>\n",
       "      <th>order_number</th>\n",
       "      <th>order_dow</th>\n",
       "      <th>order_hour_of_day</th>\n",
       "      <th>days_since_prior_order</th>\n",
       "      <th>product_id</th>\n",
       "      <th>add_to_cart_order</th>\n",
       "      <th>reordered</th>\n",
       "      <th>...</th>\n",
       "      <th>age</th>\n",
       "      <th>date_joined</th>\n",
       "      <th>num_of_dependants</th>\n",
       "      <th>fam_status</th>\n",
       "      <th>income</th>\n",
       "      <th>region</th>\n",
       "      <th>customer_activity</th>\n",
       "      <th>age_group</th>\n",
       "      <th>income_group</th>\n",
       "      <th>customer_profile</th>\n",
       "    </tr>\n",
       "  </thead>\n",
       "  <tbody>\n",
       "    <tr>\n",
       "      <th>0</th>\n",
       "      <td>2539329</td>\n",
       "      <td>1</td>\n",
       "      <td>prior</td>\n",
       "      <td>1</td>\n",
       "      <td>2</td>\n",
       "      <td>8</td>\n",
       "      <td>NaN</td>\n",
       "      <td>196</td>\n",
       "      <td>1</td>\n",
       "      <td>0</td>\n",
       "      <td>...</td>\n",
       "      <td>31</td>\n",
       "      <td>2/17/2019</td>\n",
       "      <td>3</td>\n",
       "      <td>married</td>\n",
       "      <td>40423</td>\n",
       "      <td>South</td>\n",
       "      <td>High-activity customer</td>\n",
       "      <td>26-35</td>\n",
       "      <td>Low Income</td>\n",
       "      <td>Married Older Parent</td>\n",
       "    </tr>\n",
       "    <tr>\n",
       "      <th>1</th>\n",
       "      <td>2398795</td>\n",
       "      <td>1</td>\n",
       "      <td>prior</td>\n",
       "      <td>2</td>\n",
       "      <td>3</td>\n",
       "      <td>7</td>\n",
       "      <td>15.0</td>\n",
       "      <td>196</td>\n",
       "      <td>1</td>\n",
       "      <td>1</td>\n",
       "      <td>...</td>\n",
       "      <td>31</td>\n",
       "      <td>2/17/2019</td>\n",
       "      <td>3</td>\n",
       "      <td>married</td>\n",
       "      <td>40423</td>\n",
       "      <td>South</td>\n",
       "      <td>High-activity customer</td>\n",
       "      <td>26-35</td>\n",
       "      <td>Low Income</td>\n",
       "      <td>Married Older Parent</td>\n",
       "    </tr>\n",
       "    <tr>\n",
       "      <th>2</th>\n",
       "      <td>473747</td>\n",
       "      <td>1</td>\n",
       "      <td>prior</td>\n",
       "      <td>3</td>\n",
       "      <td>3</td>\n",
       "      <td>12</td>\n",
       "      <td>21.0</td>\n",
       "      <td>196</td>\n",
       "      <td>1</td>\n",
       "      <td>1</td>\n",
       "      <td>...</td>\n",
       "      <td>31</td>\n",
       "      <td>2/17/2019</td>\n",
       "      <td>3</td>\n",
       "      <td>married</td>\n",
       "      <td>40423</td>\n",
       "      <td>South</td>\n",
       "      <td>High-activity customer</td>\n",
       "      <td>26-35</td>\n",
       "      <td>Low Income</td>\n",
       "      <td>Married Older Parent</td>\n",
       "    </tr>\n",
       "    <tr>\n",
       "      <th>3</th>\n",
       "      <td>2254736</td>\n",
       "      <td>1</td>\n",
       "      <td>prior</td>\n",
       "      <td>4</td>\n",
       "      <td>4</td>\n",
       "      <td>7</td>\n",
       "      <td>29.0</td>\n",
       "      <td>196</td>\n",
       "      <td>1</td>\n",
       "      <td>1</td>\n",
       "      <td>...</td>\n",
       "      <td>31</td>\n",
       "      <td>2/17/2019</td>\n",
       "      <td>3</td>\n",
       "      <td>married</td>\n",
       "      <td>40423</td>\n",
       "      <td>South</td>\n",
       "      <td>High-activity customer</td>\n",
       "      <td>26-35</td>\n",
       "      <td>Low Income</td>\n",
       "      <td>Married Older Parent</td>\n",
       "    </tr>\n",
       "    <tr>\n",
       "      <th>4</th>\n",
       "      <td>431534</td>\n",
       "      <td>1</td>\n",
       "      <td>prior</td>\n",
       "      <td>5</td>\n",
       "      <td>4</td>\n",
       "      <td>15</td>\n",
       "      <td>28.0</td>\n",
       "      <td>196</td>\n",
       "      <td>1</td>\n",
       "      <td>1</td>\n",
       "      <td>...</td>\n",
       "      <td>31</td>\n",
       "      <td>2/17/2019</td>\n",
       "      <td>3</td>\n",
       "      <td>married</td>\n",
       "      <td>40423</td>\n",
       "      <td>South</td>\n",
       "      <td>High-activity customer</td>\n",
       "      <td>26-35</td>\n",
       "      <td>Low Income</td>\n",
       "      <td>Married Older Parent</td>\n",
       "    </tr>\n",
       "  </tbody>\n",
       "</table>\n",
       "<p>5 rows × 37 columns</p>\n",
       "</div>"
      ],
      "text/plain": [
       "   order_id  user_id eval_set  order_number  order_dow  order_hour_of_day  \\\n",
       "0   2539329        1    prior             1          2                  8   \n",
       "1   2398795        1    prior             2          3                  7   \n",
       "2    473747        1    prior             3          3                 12   \n",
       "3   2254736        1    prior             4          4                  7   \n",
       "4    431534        1    prior             5          4                 15   \n",
       "\n",
       "   days_since_prior_order  product_id  add_to_cart_order  reordered  ... age  \\\n",
       "0                     NaN         196                  1          0  ...  31   \n",
       "1                    15.0         196                  1          1  ...  31   \n",
       "2                    21.0         196                  1          1  ...  31   \n",
       "3                    29.0         196                  1          1  ...  31   \n",
       "4                    28.0         196                  1          1  ...  31   \n",
       "\n",
       "   date_joined  num_of_dependants  fam_status income region  \\\n",
       "0    2/17/2019                  3     married  40423  South   \n",
       "1    2/17/2019                  3     married  40423  South   \n",
       "2    2/17/2019                  3     married  40423  South   \n",
       "3    2/17/2019                  3     married  40423  South   \n",
       "4    2/17/2019                  3     married  40423  South   \n",
       "\n",
       "        customer_activity age_group income_group      customer_profile  \n",
       "0  High-activity customer     26-35   Low Income  Married Older Parent  \n",
       "1  High-activity customer     26-35   Low Income  Married Older Parent  \n",
       "2  High-activity customer     26-35   Low Income  Married Older Parent  \n",
       "3  High-activity customer     26-35   Low Income  Married Older Parent  \n",
       "4  High-activity customer     26-35   Low Income  Married Older Parent  \n",
       "\n",
       "[5 rows x 37 columns]"
      ]
     },
     "execution_count": 32,
     "metadata": {},
     "output_type": "execute_result"
    }
   ],
   "source": [
    "customer_high_activity.head()"
   ]
  },
  {
   "cell_type": "markdown",
   "id": "7e6f0813",
   "metadata": {},
   "source": [
    "## Create an appropriate visualization to show the distribution of profiles."
   ]
  },
  {
   "cell_type": "code",
   "execution_count": 33,
   "id": "7ee9cd92",
   "metadata": {},
   "outputs": [
    {
     "data": {
      "image/png": "[encoded data removed]",
      "text/plain": [
       "<Figure size 640x480 with 1 Axes>"
      ]
     },
     "metadata": {},
     "output_type": "display_data"
    }
   ],
   "source": [
    "bar = customer_high_activity['customer_profile'].value_counts().sort_values(ascending=True).plot.barh(color =['green','orange', 'red','purple','blue'])"
   ]
  },
  {
   "cell_type": "code",
   "execution_count": 34,
   "id": "d3be7ccf",
   "metadata": {},
   "outputs": [],
   "source": [
    "# Export visual\n",
    "\n",
    "bar.figure.savefig(os.path.join(path, '04 Analysis','Visualizations', 'customer_profile.png'))"
   ]
  },
  {
   "cell_type": "markdown",
   "id": "a2fa7ab9",
   "metadata": {},
   "source": [
    "## Aggregate the max, mean, and min variables on a customer-profile level for usage frequency and expenditure."
   ]
  },
  {
   "cell_type": "code",
   "execution_count": 35,
   "id": "207fc712",
   "metadata": {},
   "outputs": [],
   "source": [
    "customer_profile_agg = customer_high_activity.groupby('customer_profile').agg({'order_id': 'count','prices': ['min', 'mean', 'max']})"
   ]
  },
  {
   "cell_type": "code",
   "execution_count": 36,
   "id": "d68c3b71",
   "metadata": {},
   "outputs": [
    {
     "data": {
      "text/html": [
       "<div>\n",
       "<style scoped>\n",
       "    .dataframe tbody tr th:only-of-type {\n",
       "        vertical-align: middle;\n",
       "    }\n",
       "\n",
       "    .dataframe tbody tr th {\n",
       "        vertical-align: top;\n",
       "    }\n",
       "\n",
       "    .dataframe thead tr th {\n",
       "        text-align: left;\n",
       "    }\n",
       "\n",
       "    .dataframe thead tr:last-of-type th {\n",
       "        text-align: right;\n",
       "    }\n",
       "</style>\n",
       "<table border=\"1\" class=\"dataframe\">\n",
       "  <thead>\n",
       "    <tr>\n",
       "      <th></th>\n",
       "      <th>order_id</th>\n",
       "      <th colspan=\"3\" halign=\"left\">prices</th>\n",
       "    </tr>\n",
       "    <tr>\n",
       "      <th></th>\n",
       "      <th>count</th>\n",
       "      <th>min</th>\n",
       "      <th>mean</th>\n",
       "      <th>max</th>\n",
       "    </tr>\n",
       "    <tr>\n",
       "      <th>customer_profile</th>\n",
       "      <th></th>\n",
       "      <th></th>\n",
       "      <th></th>\n",
       "      <th></th>\n",
       "    </tr>\n",
       "  </thead>\n",
       "  <tbody>\n",
       "    <tr>\n",
       "      <th>Married Older Parent</th>\n",
       "      <td>18871671</td>\n",
       "      <td>1.0</td>\n",
       "      <td>11.832916</td>\n",
       "      <td>99999.0</td>\n",
       "    </tr>\n",
       "    <tr>\n",
       "      <th>Married Young Parent</th>\n",
       "      <td>2891350</td>\n",
       "      <td>1.0</td>\n",
       "      <td>12.678965</td>\n",
       "      <td>99999.0</td>\n",
       "    </tr>\n",
       "    <tr>\n",
       "      <th>Single Female w/o Children</th>\n",
       "      <td>3862132</td>\n",
       "      <td>1.0</td>\n",
       "      <td>11.665994</td>\n",
       "      <td>99999.0</td>\n",
       "    </tr>\n",
       "    <tr>\n",
       "      <th>Single Male w/o Children</th>\n",
       "      <td>3884900</td>\n",
       "      <td>1.0</td>\n",
       "      <td>12.538412</td>\n",
       "      <td>99999.0</td>\n",
       "    </tr>\n",
       "    <tr>\n",
       "      <th>Single Parent</th>\n",
       "      <td>1482611</td>\n",
       "      <td>1.0</td>\n",
       "      <td>10.892382</td>\n",
       "      <td>99999.0</td>\n",
       "    </tr>\n",
       "  </tbody>\n",
       "</table>\n",
       "</div>"
      ],
      "text/plain": [
       "                            order_id prices                    \n",
       "                               count    min       mean      max\n",
       "customer_profile                                               \n",
       "Married Older Parent        18871671    1.0  11.832916  99999.0\n",
       "Married Young Parent         2891350    1.0  12.678965  99999.0\n",
       "Single Female w/o Children   3862132    1.0  11.665994  99999.0\n",
       "Single Male w/o Children     3884900    1.0  12.538412  99999.0\n",
       "Single Parent                1482611    1.0  10.892382  99999.0"
      ]
     },
     "execution_count": 36,
     "metadata": {},
     "output_type": "execute_result"
    }
   ],
   "source": [
    "customer_profile_agg"
   ]
  },
  {
   "cell_type": "markdown",
   "id": "ea1a52dc",
   "metadata": {},
   "source": [
    "## Compare customer profiles across regions and departments. "
   ]
  },
  {
   "cell_type": "code",
   "execution_count": 37,
   "id": "a376bd72",
   "metadata": {},
   "outputs": [],
   "source": [
    "customer_region_profile = pd.crosstab(customer_high_activity['customer_profile'],customer_high_activity['region'], dropna = False)"
   ]
  },
  {
   "cell_type": "code",
   "execution_count": 38,
   "id": "9ab6b22a",
   "metadata": {},
   "outputs": [
    {
     "data": {
      "text/html": [
       "<div>\n",
       "<style scoped>\n",
       "    .dataframe tbody tr th:only-of-type {\n",
       "        vertical-align: middle;\n",
       "    }\n",
       "\n",
       "    .dataframe tbody tr th {\n",
       "        vertical-align: top;\n",
       "    }\n",
       "\n",
       "    .dataframe thead th {\n",
       "        text-align: right;\n",
       "    }\n",
       "</style>\n",
       "<table border=\"1\" class=\"dataframe\">\n",
       "  <thead>\n",
       "    <tr style=\"text-align: right;\">\n",
       "      <th>region</th>\n",
       "      <th>Midwest</th>\n",
       "      <th>Northeast</th>\n",
       "      <th>South</th>\n",
       "      <th>West</th>\n",
       "    </tr>\n",
       "    <tr>\n",
       "      <th>customer_profile</th>\n",
       "      <th></th>\n",
       "      <th></th>\n",
       "      <th></th>\n",
       "      <th></th>\n",
       "    </tr>\n",
       "  </thead>\n",
       "  <tbody>\n",
       "    <tr>\n",
       "      <th>Married Older Parent</th>\n",
       "      <td>4416369</td>\n",
       "      <td>3353848</td>\n",
       "      <td>5540768</td>\n",
       "      <td>5560686</td>\n",
       "    </tr>\n",
       "    <tr>\n",
       "      <th>Married Young Parent</th>\n",
       "      <td>675159</td>\n",
       "      <td>503609</td>\n",
       "      <td>854380</td>\n",
       "      <td>858202</td>\n",
       "    </tr>\n",
       "    <tr>\n",
       "      <th>Single Female w/o Children</th>\n",
       "      <td>906419</td>\n",
       "      <td>664320</td>\n",
       "      <td>1172973</td>\n",
       "      <td>1118420</td>\n",
       "    </tr>\n",
       "    <tr>\n",
       "      <th>Single Male w/o Children</th>\n",
       "      <td>918068</td>\n",
       "      <td>691508</td>\n",
       "      <td>1118759</td>\n",
       "      <td>1156565</td>\n",
       "    </tr>\n",
       "    <tr>\n",
       "      <th>Single Parent</th>\n",
       "      <td>351692</td>\n",
       "      <td>256783</td>\n",
       "      <td>438693</td>\n",
       "      <td>435443</td>\n",
       "    </tr>\n",
       "  </tbody>\n",
       "</table>\n",
       "</div>"
      ],
      "text/plain": [
       "region                      Midwest  Northeast    South     West\n",
       "customer_profile                                                \n",
       "Married Older Parent        4416369    3353848  5540768  5560686\n",
       "Married Young Parent         675159     503609   854380   858202\n",
       "Single Female w/o Children   906419     664320  1172973  1118420\n",
       "Single Male w/o Children     918068     691508  1118759  1156565\n",
       "Single Parent                351692     256783   438693   435443"
      ]
     },
     "execution_count": 38,
     "metadata": {},
     "output_type": "execute_result"
    }
   ],
   "source": [
    "customer_region_profile"
   ]
  },
  {
   "cell_type": "code",
   "execution_count": 39,
   "id": "63b2bf91",
   "metadata": {},
   "outputs": [
    {
     "data": {
      "text/plain": [
       "<matplotlib.legend.Legend at 0x16b559290>"
      ]
     },
     "execution_count": 39,
     "metadata": {},
     "output_type": "execute_result"
    },
    {
     "data": {
      "image/png": "[encoded data removed]",
      "text/plain": [
       "<Figure size 1000x600 with 1 Axes>"
      ]
     },
     "metadata": {},
     "output_type": "display_data"
    }
   ],
   "source": [
    "customer_region_profile_bar_stacked = customer_region_profile.plot.bar(stacked=True, figsize=(10, 6))\n",
    "\n",
    "plt.title('Customer Profile Distribution by Region')\n",
    "plt.xlabel('Customer Profiles')\n",
    "plt.ylabel('Count')\n",
    "plt.legend(title='region', bbox_to_anchor=(1.05, 1), loc='upper left')"
   ]
  },
  {
   "cell_type": "code",
   "execution_count": 40,
   "id": "38b842a9",
   "metadata": {},
   "outputs": [],
   "source": [
    "# Export visual\n",
    "\n",
    "customer_region_profile_bar_stacked.figure.savefig(os.path.join(path, '04 Analysis','Visualizations', 'customer_region_profile_bar_stacked.png'))"
   ]
  },
  {
   "cell_type": "code",
   "execution_count": 41,
   "id": "459f390a",
   "metadata": {},
   "outputs": [],
   "source": [
    "customer_departments_profile = pd.crosstab(customer_high_activity['department_id'],customer_high_activity['customer_profile'], dropna = False)"
   ]
  },
  {
   "cell_type": "code",
   "execution_count": 42,
   "id": "158863f4",
   "metadata": {},
   "outputs": [
    {
     "data": {
      "text/html": [
       "<div>\n",
       "<style scoped>\n",
       "    .dataframe tbody tr th:only-of-type {\n",
       "        vertical-align: middle;\n",
       "    }\n",
       "\n",
       "    .dataframe tbody tr th {\n",
       "        vertical-align: top;\n",
       "    }\n",
       "\n",
       "    .dataframe thead th {\n",
       "        text-align: right;\n",
       "    }\n",
       "</style>\n",
       "<table border=\"1\" class=\"dataframe\">\n",
       "  <thead>\n",
       "    <tr style=\"text-align: right;\">\n",
       "      <th>customer_profile</th>\n",
       "      <th>Married Older Parent</th>\n",
       "      <th>Married Young Parent</th>\n",
       "      <th>Single Female w/o Children</th>\n",
       "      <th>Single Male w/o Children</th>\n",
       "      <th>Single Parent</th>\n",
       "    </tr>\n",
       "    <tr>\n",
       "      <th>department_id</th>\n",
       "      <th></th>\n",
       "      <th></th>\n",
       "      <th></th>\n",
       "      <th></th>\n",
       "      <th></th>\n",
       "    </tr>\n",
       "  </thead>\n",
       "  <tbody>\n",
       "    <tr>\n",
       "      <th>1</th>\n",
       "      <td>1291777</td>\n",
       "      <td>198747</td>\n",
       "      <td>263526</td>\n",
       "      <td>266223</td>\n",
       "      <td>103069</td>\n",
       "    </tr>\n",
       "    <tr>\n",
       "      <th>2</th>\n",
       "      <td>20491</td>\n",
       "      <td>3391</td>\n",
       "      <td>4478</td>\n",
       "      <td>4236</td>\n",
       "      <td>1815</td>\n",
       "    </tr>\n",
       "    <tr>\n",
       "      <th>3</th>\n",
       "      <td>683861</td>\n",
       "      <td>104769</td>\n",
       "      <td>139885</td>\n",
       "      <td>142601</td>\n",
       "      <td>53910</td>\n",
       "    </tr>\n",
       "    <tr>\n",
       "      <th>4</th>\n",
       "      <td>5529520</td>\n",
       "      <td>843775</td>\n",
       "      <td>1135335</td>\n",
       "      <td>1140107</td>\n",
       "      <td>430539</td>\n",
       "    </tr>\n",
       "    <tr>\n",
       "      <th>5</th>\n",
       "      <td>86286</td>\n",
       "      <td>13156</td>\n",
       "      <td>18621</td>\n",
       "      <td>18231</td>\n",
       "      <td>8380</td>\n",
       "    </tr>\n",
       "    <tr>\n",
       "      <th>6</th>\n",
       "      <td>155106</td>\n",
       "      <td>24030</td>\n",
       "      <td>31987</td>\n",
       "      <td>32474</td>\n",
       "      <td>12394</td>\n",
       "    </tr>\n",
       "    <tr>\n",
       "      <th>7</th>\n",
       "      <td>1569424</td>\n",
       "      <td>238053</td>\n",
       "      <td>322425</td>\n",
       "      <td>322924</td>\n",
       "      <td>119108</td>\n",
       "    </tr>\n",
       "    <tr>\n",
       "      <th>8</th>\n",
       "      <td>55790</td>\n",
       "      <td>8335</td>\n",
       "      <td>11473</td>\n",
       "      <td>12129</td>\n",
       "      <td>5338</td>\n",
       "    </tr>\n",
       "    <tr>\n",
       "      <th>9</th>\n",
       "      <td>500969</td>\n",
       "      <td>77329</td>\n",
       "      <td>101763</td>\n",
       "      <td>102533</td>\n",
       "      <td>39542</td>\n",
       "    </tr>\n",
       "    <tr>\n",
       "      <th>10</th>\n",
       "      <td>20543</td>\n",
       "      <td>3275</td>\n",
       "      <td>4081</td>\n",
       "      <td>3919</td>\n",
       "      <td>1633</td>\n",
       "    </tr>\n",
       "    <tr>\n",
       "      <th>11</th>\n",
       "      <td>258696</td>\n",
       "      <td>39280</td>\n",
       "      <td>53522</td>\n",
       "      <td>52713</td>\n",
       "      <td>20204</td>\n",
       "    </tr>\n",
       "    <tr>\n",
       "      <th>12</th>\n",
       "      <td>413673</td>\n",
       "      <td>62889</td>\n",
       "      <td>81908</td>\n",
       "      <td>83971</td>\n",
       "      <td>32344</td>\n",
       "    </tr>\n",
       "    <tr>\n",
       "      <th>13</th>\n",
       "      <td>1088020</td>\n",
       "      <td>165057</td>\n",
       "      <td>219493</td>\n",
       "      <td>224473</td>\n",
       "      <td>85860</td>\n",
       "    </tr>\n",
       "    <tr>\n",
       "      <th>14</th>\n",
       "      <td>411858</td>\n",
       "      <td>64418</td>\n",
       "      <td>83893</td>\n",
       "      <td>84432</td>\n",
       "      <td>33494</td>\n",
       "    </tr>\n",
       "    <tr>\n",
       "      <th>15</th>\n",
       "      <td>616413</td>\n",
       "      <td>96164</td>\n",
       "      <td>124165</td>\n",
       "      <td>126855</td>\n",
       "      <td>48477</td>\n",
       "    </tr>\n",
       "    <tr>\n",
       "      <th>16</th>\n",
       "      <td>3156403</td>\n",
       "      <td>486182</td>\n",
       "      <td>649869</td>\n",
       "      <td>648346</td>\n",
       "      <td>251028</td>\n",
       "    </tr>\n",
       "    <tr>\n",
       "      <th>17</th>\n",
       "      <td>430681</td>\n",
       "      <td>64470</td>\n",
       "      <td>85291</td>\n",
       "      <td>86067</td>\n",
       "      <td>33349</td>\n",
       "    </tr>\n",
       "    <tr>\n",
       "      <th>18</th>\n",
       "      <td>249751</td>\n",
       "      <td>37932</td>\n",
       "      <td>50469</td>\n",
       "      <td>52859</td>\n",
       "      <td>19381</td>\n",
       "    </tr>\n",
       "    <tr>\n",
       "      <th>19</th>\n",
       "      <td>1684020</td>\n",
       "      <td>260638</td>\n",
       "      <td>345499</td>\n",
       "      <td>344939</td>\n",
       "      <td>131310</td>\n",
       "    </tr>\n",
       "    <tr>\n",
       "      <th>20</th>\n",
       "      <td>608941</td>\n",
       "      <td>93392</td>\n",
       "      <td>126183</td>\n",
       "      <td>127199</td>\n",
       "      <td>48119</td>\n",
       "    </tr>\n",
       "    <tr>\n",
       "      <th>21</th>\n",
       "      <td>39448</td>\n",
       "      <td>6068</td>\n",
       "      <td>8266</td>\n",
       "      <td>7669</td>\n",
       "      <td>3317</td>\n",
       "    </tr>\n",
       "  </tbody>\n",
       "</table>\n",
       "</div>"
      ],
      "text/plain": [
       "customer_profile  Married Older Parent  Married Young Parent  \\\n",
       "department_id                                                  \n",
       "1                              1291777                198747   \n",
       "2                                20491                  3391   \n",
       "3                               683861                104769   \n",
       "4                              5529520                843775   \n",
       "5                                86286                 13156   \n",
       "6                               155106                 24030   \n",
       "7                              1569424                238053   \n",
       "8                                55790                  8335   \n",
       "9                               500969                 77329   \n",
       "10                               20543                  3275   \n",
       "11                              258696                 39280   \n",
       "12                              413673                 62889   \n",
       "13                             1088020                165057   \n",
       "14                              411858                 64418   \n",
       "15                              616413                 96164   \n",
       "16                             3156403                486182   \n",
       "17                              430681                 64470   \n",
       "18                              249751                 37932   \n",
       "19                             1684020                260638   \n",
       "20                              608941                 93392   \n",
       "21                               39448                  6068   \n",
       "\n",
       "customer_profile  Single Female w/o Children  Single Male w/o Children  \\\n",
       "department_id                                                            \n",
       "1                                     263526                    266223   \n",
       "2                                       4478                      4236   \n",
       "3                                     139885                    142601   \n",
       "4                                    1135335                   1140107   \n",
       "5                                      18621                     18231   \n",
       "6                                      31987                     32474   \n",
       "7                                     322425                    322924   \n",
       "8                                      11473                     12129   \n",
       "9                                     101763                    102533   \n",
       "10                                      4081                      3919   \n",
       "11                                     53522                     52713   \n",
       "12                                     81908                     83971   \n",
       "13                                    219493                    224473   \n",
       "14                                     83893                     84432   \n",
       "15                                    124165                    126855   \n",
       "16                                    649869                    648346   \n",
       "17                                     85291                     86067   \n",
       "18                                     50469                     52859   \n",
       "19                                    345499                    344939   \n",
       "20                                    126183                    127199   \n",
       "21                                      8266                      7669   \n",
       "\n",
       "customer_profile  Single Parent  \n",
       "department_id                    \n",
       "1                        103069  \n",
       "2                          1815  \n",
       "3                         53910  \n",
       "4                        430539  \n",
       "5                          8380  \n",
       "6                         12394  \n",
       "7                        119108  \n",
       "8                          5338  \n",
       "9                         39542  \n",
       "10                         1633  \n",
       "11                        20204  \n",
       "12                        32344  \n",
       "13                        85860  \n",
       "14                        33494  \n",
       "15                        48477  \n",
       "16                       251028  \n",
       "17                        33349  \n",
       "18                        19381  \n",
       "19                       131310  \n",
       "20                        48119  \n",
       "21                         3317  "
      ]
     },
     "execution_count": 42,
     "metadata": {},
     "output_type": "execute_result"
    }
   ],
   "source": [
    "customer_departments_profile"
   ]
  },
  {
   "cell_type": "code",
   "execution_count": 43,
   "id": "7942e0c4",
   "metadata": {},
   "outputs": [
    {
     "data": {
      "text/plain": [
       "<Figure size 1000x1200 with 0 Axes>"
      ]
     },
     "metadata": {},
     "output_type": "display_data"
    },
    {
     "data": {
      "image/png": "[encoded data removed]",
      "text/plain": [
       "<Figure size 640x480 with 1 Axes>"
      ]
     },
     "metadata": {},
     "output_type": "display_data"
    }
   ],
   "source": [
    "customer_departments_profile_bar = customer_departments_profile.sort_values(by='Married Older Parent', ascending=True)\n",
    "\n",
    "plt.figure(figsize=(10, 12))  \n",
    "customer_departments_profile.plot.barh(stacked=True)\n",
    "\n",
    "plt.title('Customer Profile Distribution by Department')\n",
    "plt.xlabel('Count')\n",
    "plt.ylabel('Departments')\n",
    "plt.legend(title='Customer Profile', bbox_to_anchor=(1.05, 1), loc='upper left')\n",
    "\n",
    "\n",
    "plt.savefig(os.path.join(path, '04 Analysis', 'Visualizations', 'customer_departments_profile_bar.png'))\n",
    "\n",
    "\n",
    "plt.show()"
   ]
  },
  {
   "cell_type": "code",
   "execution_count": 45,
   "id": "874a1dde",
   "metadata": {},
   "outputs": [],
   "source": [
    "cross_tab_2 = pd.crosstab(customer_high_activity['customer_profile'], customer_high_activity['spending_flag'])"
   ]
  },
  {
   "cell_type": "code",
   "execution_count": 46,
   "id": "5b9d1a2e",
   "metadata": {},
   "outputs": [
    {
     "data": {
      "image/png": "[encoded data removed]",
      "text/plain": [
       "<Figure size 1000x600 with 2 Axes>"
      ]
     },
     "metadata": {},
     "output_type": "display_data"
    }
   ],
   "source": [
    "plt.figure(figsize=(10, 6))\n",
    "sns.heatmap(cross_tab_2, annot=True, cmap='YlGnBu', fmt='d')\n",
    "plt.title('Relationship between Customer Profile and Spending Flag')\n",
    "plt.xlabel('Spending Flag')\n",
    "plt.ylabel('Customer Profile')\n",
    "plt.show()"
   ]
  }
 ],
 "metadata": {
  "kernelspec": {
   "display_name": "Python 3 (ipykernel)",
   "language": "python",
   "name": "python3"
  },
  "language_info": {
   "codemirror_mode": {
    "name": "ipython",
    "version": 3
   },
   "file_extension": ".py",
   "mimetype": "text/x-python",
   "name": "python",
   "nbconvert_exporter": "python",
   "pygments_lexer": "ipython3",
   "version": "3.11.5"
  }
 },
 "nbformat": 4,
 "nbformat_minor": 5
}
