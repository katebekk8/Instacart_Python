{
 "cells": [
  {
   "cell_type": "markdown",
   "id": "2e603ea6",
   "metadata": {},
   "source": [
    "## 01. Importing librarie"
   ]
  },
  {
   "cell_type": "code",
   "execution_count": 1,
   "id": "057ab028",
   "metadata": {},
   "outputs": [],
   "source": [
    "# Import libraries\n",
    "import pandas as pd\n",
    "import numpy as np\n",
    "import os"
   ]
  },
  {
   "cell_type": "markdown",
   "id": "c4487419",
   "metadata": {},
   "source": [
    "## 02. Data types"
   ]
  },
  {
   "cell_type": "code",
   "execution_count": 1,
   "id": "7db8d732",
   "metadata": {},
   "outputs": [
    {
     "data": {
      "text/plain": [
       "100"
      ]
     },
     "execution_count": 1,
     "metadata": {},
     "output_type": "execute_result"
    }
   ],
   "source": [
    "# 3 different ways of reaching a result of 100\n",
    "a=50\n",
    "b=50\n",
    "a+b"
   ]
  },
  {
   "cell_type": "code",
   "execution_count": 2,
   "id": "e2b31a3c",
   "metadata": {},
   "outputs": [
    {
     "data": {
      "text/plain": [
       "int"
      ]
     },
     "execution_count": 2,
     "metadata": {},
     "output_type": "execute_result"
    }
   ],
   "source": [
    "type(a+b)"
   ]
  },
  {
   "cell_type": "code",
   "execution_count": 3,
   "id": "5251b17f",
   "metadata": {},
   "outputs": [
    {
     "data": {
      "text/plain": [
       "100"
      ]
     },
     "execution_count": 3,
     "metadata": {},
     "output_type": "execute_result"
    }
   ],
   "source": [
    "x=150\n",
    "y=50\n",
    "x-y"
   ]
  },
  {
   "cell_type": "code",
   "execution_count": 4,
   "id": "23169978",
   "metadata": {},
   "outputs": [
    {
     "data": {
      "text/plain": [
       "int"
      ]
     },
     "execution_count": 4,
     "metadata": {},
     "output_type": "execute_result"
    }
   ],
   "source": [
    "type(x-y)"
   ]
  },
  {
   "cell_type": "code",
   "execution_count": 5,
   "id": "c3655ef3",
   "metadata": {},
   "outputs": [
    {
     "data": {
      "text/plain": [
       "100"
      ]
     },
     "execution_count": 5,
     "metadata": {},
     "output_type": "execute_result"
    }
   ],
   "source": [
    "a=110\n",
    "b=30\n",
    "c=20\n",
    "a-b+c"
   ]
  },
  {
   "cell_type": "code",
   "execution_count": 6,
   "id": "8b7899ff",
   "metadata": {},
   "outputs": [
    {
     "data": {
      "text/plain": [
       "int"
      ]
     },
     "execution_count": 6,
     "metadata": {},
     "output_type": "execute_result"
    }
   ],
   "source": [
    "type(a-b+c)"
   ]
  },
  {
   "cell_type": "code",
   "execution_count": 7,
   "id": "e6684db3",
   "metadata": {},
   "outputs": [
    {
     "data": {
      "text/plain": [
       "6.2"
      ]
     },
     "execution_count": 7,
     "metadata": {},
     "output_type": "execute_result"
    }
   ],
   "source": [
    "#  2 floating-point variables and divide them by each other\n",
    "x=15.5\n",
    "y=2.5\n",
    "x/y"
   ]
  },
  {
   "cell_type": "code",
   "execution_count": 8,
   "id": "65b882e7",
   "metadata": {},
   "outputs": [
    {
     "data": {
      "text/plain": [
       "float"
      ]
     },
     "execution_count": 8,
     "metadata": {},
     "output_type": "execute_result"
    }
   ],
   "source": [
    "type(x/y)"
   ]
  },
  {
   "cell_type": "code",
   "execution_count": 12,
   "id": "0cf3096d",
   "metadata": {},
   "outputs": [
    {
     "data": {
      "text/plain": [
       "'Hi,Kimera!'"
      ]
     },
     "execution_count": 12,
     "metadata": {},
     "output_type": "execute_result"
    }
   ],
   "source": [
    "# Construct a short word made of separate strings (you’ll need to concatenate some strings!).\n",
    "x=\"Hi,\"\n",
    "y=\"Kimera!\"\n",
    "x+y"
   ]
  },
  {
   "cell_type": "code",
   "execution_count": 13,
   "id": "1d5d5141",
   "metadata": {},
   "outputs": [
    {
     "data": {
      "text/plain": [
       "str"
      ]
     },
     "execution_count": 13,
     "metadata": {},
     "output_type": "execute_result"
    }
   ],
   "source": [
    "type(x+y)"
   ]
  },
  {
   "cell_type": "code",
   "execution_count": 14,
   "id": "62131eb1",
   "metadata": {},
   "outputs": [
    {
     "data": {
      "text/plain": [
       "\"Then,let's slither into Python!\""
      ]
     },
     "execution_count": 14,
     "metadata": {},
     "output_type": "execute_result"
    }
   ],
   "source": [
    "# Construct 2 short sentences made of separate strings.\n",
    "a=\"Then,\"\n",
    "b=\"let's slither into Python!\"\n",
    "a+b"
   ]
  },
  {
   "cell_type": "code",
   "execution_count": 16,
   "id": "7dd3fef4",
   "metadata": {},
   "outputs": [
    {
     "data": {
      "text/plain": [
       "'Feel the fear,and do it anyway.'"
      ]
     },
     "execution_count": 16,
     "metadata": {},
     "output_type": "execute_result"
    }
   ],
   "source": [
    "c=\"Feel the fear,\"\n",
    "d=\"and do it anyway.\"\n",
    "c+d"
   ]
  },
  {
   "cell_type": "code",
   "execution_count": 17,
   "id": "51f3dfd0",
   "metadata": {},
   "outputs": [
    {
     "data": {
      "text/plain": [
       "str"
      ]
     },
     "execution_count": 17,
     "metadata": {},
     "output_type": "execute_result"
    }
   ],
   "source": [
    "type(c+d)"
   ]
  },
  {
   "cell_type": "code",
   "execution_count": 18,
   "id": "1fc5dad0",
   "metadata": {},
   "outputs": [
    {
     "data": {
      "text/plain": [
       "\"Then,let's slither into Python!Then,let's slither into Python!Then,let's slither into Python!Then,let's slither into Python!Then,let's slither into Python!Then,let's slither into Python!Then,let's slither into Python!Then,let's slither into Python!Then,let's slither into Python!Then,let's slither into Python!Then,let's slither into Python!Then,let's slither into Python!Then,let's slither into Python!Then,let's slither into Python!Then,let's slither into Python!Then,let's slither into Python!Then,let's slither into Python!Then,let's slither into Python!Then,let's slither into Python!Then,let's slither into Python!Then,let's slither into Python!Then,let's slither into Python!Then,let's slither into Python!Then,let's slither into Python!Then,let's slither into Python!Then,let's slither into Python!Then,let's slither into Python!Then,let's slither into Python!Then,let's slither into Python!Then,let's slither into Python!Then,let's slither into Python!Then,let's slither into Python!Then,let's slither into Python!Then,let's slither into Python!Then,let's slither into Python!Then,let's slither into Python!Then,let's slither into Python!Then,let's slither into Python!Then,let's slither into Python!Then,let's slither into Python!Then,let's slither into Python!Then,let's slither into Python!Then,let's slither into Python!Then,let's slither into Python!Then,let's slither into Python!Then,let's slither into Python!Then,let's slither into Python!Then,let's slither into Python!Then,let's slither into Python!Then,let's slither into Python!Then,let's slither into Python!Then,let's slither into Python!Then,let's slither into Python!Then,let's slither into Python!Then,let's slither into Python!Then,let's slither into Python!Then,let's slither into Python!Then,let's slither into Python!Then,let's slither into Python!Then,let's slither into Python!Then,let's slither into Python!Then,let's slither into Python!Then,let's slither into Python!Then,let's slither into Python!Then,let's slither into Python!Then,let's slither into Python!Then,let's slither into Python!Then,let's slither into Python!Then,let's slither into Python!Then,let's slither into Python!Then,let's slither into Python!Then,let's slither into Python!Then,let's slither into Python!Then,let's slither into Python!Then,let's slither into Python!Then,let's slither into Python!Then,let's slither into Python!Then,let's slither into Python!Then,let's slither into Python!Then,let's slither into Python!Then,let's slither into Python!Then,let's slither into Python!Then,let's slither into Python!Then,let's slither into Python!Then,let's slither into Python!Then,let's slither into Python!Then,let's slither into Python!Then,let's slither into Python!Then,let's slither into Python!Then,let's slither into Python!Then,let's slither into Python!Then,let's slither into Python!Then,let's slither into Python!Then,let's slither into Python!Then,let's slither into Python!Then,let's slither into Python!Then,let's slither into Python!Then,let's slither into Python!Then,let's slither into Python!Then,let's slither into Python!\""
      ]
     },
     "execution_count": 18,
     "metadata": {},
     "output_type": "execute_result"
    }
   ],
   "source": [
    "# Bonus Task\n",
    "x=\"Then,let's slither into Python!\"\n",
    "x*100"
   ]
  }
 ],
 "metadata": {
  "kernelspec": {
   "display_name": "Python 3 (ipykernel)",
   "language": "python",
   "name": "python3"
  },
  "language_info": {
   "codemirror_mode": {
    "name": "ipython",
    "version": 3
   },
   "file_extension": ".py",
   "mimetype": "text/x-python",
   "name": "python",
   "nbconvert_exporter": "python",
   "pygments_lexer": "ipython3",
   "version": "3.11.5"
  }
 },
 "nbformat": 4,
 "nbformat_minor": 5
}
